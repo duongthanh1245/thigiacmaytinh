{
 "cells": [
  {
   "cell_type": "code",
   "execution_count": 1,
   "id": "640b6b5a-900e-43d7-8b5f-b46f311ecb2d",
   "metadata": {},
   "outputs": [],
   "source": [
    "from PIL import Image\n",
    "import matplotlib.pyplot as plt"
   ]
  },
  {
   "cell_type": "code",
   "execution_count": 2,
   "id": "ef96bb23-4d54-4a12-9006-b10a9179efa6",
   "metadata": {},
   "outputs": [
    {
     "name": "stdout",
     "output_type": "stream",
     "text": [
      "[(314.23593073593076, 176.81601731601728), (182.35714285714286, 159.08441558441552), (200.08874458874462, 200.08874458874453)]\n"
     ]
    }
   ],
   "source": [
    "my_path = 'C:/Users/ducth/Documents/hoctap/thigiacmaytinh/img/ava_spiderman.png'\n",
    "img = Image.open(my_path)\n",
    "#chuyen doi backend\n",
    "plt.switch_backend('tkagg')\n",
    "#hien thi anh\n",
    "plt.imshow(img)\n",
    "plt.title('click vao anh de chon mot diem')\n",
    "#su dung ham ginput de chon diem tren anh\n",
    "points = plt.ginput(3)\n",
    "print(points)\n",
    "\n",
    "plt.show()"
   ]
  },
  {
   "cell_type": "code",
   "execution_count": 5,
   "id": "af6de8f2-e78f-4963-8b01-3e495473e007",
   "metadata": {},
   "outputs": [],
   "source": [
    "# ve lai diem da chon bang dau * mau do\n",
    "plt.close()\n",
    "\n",
    "#ve lai\n",
    "plt.imshow(img)\n",
    "\n",
    "for point in points:\n",
    "    x, y = point\n",
    "    plt.plot(x,y, 'r*')\n",
    "plt.show()"
   ]
  },
  {
   "cell_type": "code",
   "execution_count": null,
   "id": "f61a51f2-c6fe-45cb-888f-0ea8272cff30",
   "metadata": {},
   "outputs": [],
   "source": []
  }
 ],
 "metadata": {
  "kernelspec": {
   "display_name": "Python 3 (ipykernel)",
   "language": "python",
   "name": "python3"
  },
  "language_info": {
   "codemirror_mode": {
    "name": "ipython",
    "version": 3
   },
   "file_extension": ".py",
   "mimetype": "text/x-python",
   "name": "python",
   "nbconvert_exporter": "python",
   "pygments_lexer": "ipython3",
   "version": "3.12.4"
  }
 },
 "nbformat": 4,
 "nbformat_minor": 5
}
