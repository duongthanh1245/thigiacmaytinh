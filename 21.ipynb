{
 "cells": [
  {
   "cell_type": "code",
   "execution_count": 13,
   "id": "c5556481-67c0-43bb-b08a-98107a5b5695",
   "metadata": {},
   "outputs": [],
   "source": [
    "import cv2"
   ]
  },
  {
   "cell_type": "code",
   "execution_count": 24,
   "id": "a17abe1b-98da-44f7-95c1-1408896bc009",
   "metadata": {},
   "outputs": [],
   "source": [
    "#doc video tu file\n",
    "my_video = cv2.VideoCapture('C:/Users/ducth/Documents/hoctap/thigiacmaytinh/data/video_hd.mp4')"
   ]
  },
  {
   "cell_type": "code",
   "execution_count": 25,
   "id": "e220216a-41bb-4d83-906b-0612189f624a",
   "metadata": {},
   "outputs": [],
   "source": [
    "#tao cua so hien thi\n",
    "cv2.namedWindow('VideoPlayer', cv2.WINDOW_NORMAL)"
   ]
  },
  {
   "cell_type": "code",
   "execution_count": 26,
   "id": "44a1cf9f-0891-4a7a-8fc2-59e89d6b5bee",
   "metadata": {},
   "outputs": [],
   "source": [
    "#Hien thi tung khung anh\n",
    "while True:\n",
    "    #Doc 1 frame\n",
    "    ret, frame = my_video.read()\n",
    "    \n",
    "    #Thoat khi khong doc duoc frame\n",
    "    if not ret:\n",
    "        break\n",
    "    \n",
    "    # Hien thi\n",
    "    cv2.imshow('VideoPlayer', frame)\n",
    "    \n",
    "    if(cv2.waitKey(10)==ord('q')):\n",
    "        break"
   ]
  },
  {
   "cell_type": "code",
   "execution_count": null,
   "id": "1d8b0ddb-15d2-4d52-a106-9de1c2f1da93",
   "metadata": {},
   "outputs": [],
   "source": [
    "#huy bo player\n",
    "my_video.release\n",
    "cv2.destroyAllWindows()|"
   ]
  },
  {
   "cell_type": "code",
   "execution_count": null,
   "id": "3fee868f-8ffc-459f-a18e-178b45f1752b",
   "metadata": {},
   "outputs": [],
   "source": []
  }
 ],
 "metadata": {
  "kernelspec": {
   "display_name": "Python 3 (ipykernel)",
   "language": "python",
   "name": "python3"
  },
  "language_info": {
   "codemirror_mode": {
    "name": "ipython",
    "version": 3
   },
   "file_extension": ".py",
   "mimetype": "text/x-python",
   "name": "python",
   "nbconvert_exporter": "python",
   "pygments_lexer": "ipython3",
   "version": "3.12.4"
  }
 },
 "nbformat": 4,
 "nbformat_minor": 5
}
