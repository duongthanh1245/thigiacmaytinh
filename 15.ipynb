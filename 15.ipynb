{
 "cells": [
  {
   "cell_type": "code",
   "execution_count": 1,
   "id": "28f74c7d-ca9b-4250-8958-0368e5dfbc0a",
   "metadata": {},
   "outputs": [
    {
     "name": "stdout",
     "output_type": "stream",
     "text": [
      "Defaulting to user installation because normal site-packages is not writeable\n",
      "Requirement already satisfied: scipy in c:\\programdata\\anaconda3\\lib\\site-packages (1.13.1)\n",
      "Requirement already satisfied: numpy<2.3,>=1.22.4 in c:\\programdata\\anaconda3\\lib\\site-packages (from scipy) (1.26.4)\n"
     ]
    }
   ],
   "source": [
    "\n",
    "# !pip install scipy"
   ]
  },
  {
   "cell_type": "code",
   "execution_count": 2,
   "id": "29b7bad1-7c56-428c-abc4-7919e9c2c51d",
   "metadata": {},
   "outputs": [
    {
     "name": "stdout",
     "output_type": "stream",
     "text": [
      "KQ:  [1. 1.]\n"
     ]
    }
   ],
   "source": [
    "#giai he phtrinh tuyen tinh\n",
    "from scipy import linalg\n",
    "import numpy as np\n",
    "\n",
    "#Dinh nghia he pt tuyen tinh\n",
    "A = np.array([[4, 3],[5, 4]])\n",
    "b = np.array([7,9])\n",
    "\n",
    "#Giai he pt tuyen tinh\n",
    "x = linalg.solve(A, b)\n",
    "print(\"KQ: \", x)"
   ]
  },
  {
   "cell_type": "code",
   "execution_count": 3,
   "id": "b1e4af99-e783-4331-b919-ccf17f76e473",
   "metadata": {},
   "outputs": [
    {
     "name": "stdout",
     "output_type": "stream",
     "text": [
      "Tich phan f(x) tu 0 den 1:  (0.33333333333333337, 3.700743415417189e-15)\n"
     ]
    }
   ],
   "source": [
    "#Tich phan cua mot ham so\n",
    "from scipy import integrate\n",
    "\n",
    "# Dinh nghia ham f(x) = x^2\n",
    "def my_function(x):\n",
    "    return x**2\n",
    "\n",
    "# Tinh tich phan cua f(x) tu 0 -> 1\n",
    "integral = integrate.quad(my_function, 0, 1);\n",
    "print(\"Tich phan f(x) tu 0 den 1: \", integral)"
   ]
  },
  {
   "cell_type": "code",
   "execution_count": 6,
   "id": "08dcf036-761d-4bd9-9111-2e9a2cfd78b0",
   "metadata": {},
   "outputs": [
    {
     "name": "stdout",
     "output_type": "stream",
     "text": [
      "Gtri rieng:  [ 0.27984675+0.j 10.72015325+0.j]\n",
      "Vector rieng:  [[-0.94560498 -0.49741747]\n",
      " [ 0.3253171  -0.86751131]]\n"
     ]
    }
   ],
   "source": [
    "# Tinh gtri rieng va vector rieng cua mot ma tran\n",
    "A = np.array([[2,5], [3,9]])\n",
    "evals, evecs = linalg.eig(A)\n",
    "\n",
    "print(\"Gtri rieng: \", evals)\n",
    "print(\"Vector rieng: \", evecs)"
   ]
  }
 ],
 "metadata": {
  "kernelspec": {
   "display_name": "Python 3 (ipykernel)",
   "language": "python",
   "name": "python3"
  },
  "language_info": {
   "codemirror_mode": {
    "name": "ipython",
    "version": 3
   },
   "file_extension": ".py",
   "mimetype": "text/x-python",
   "name": "python",
   "nbconvert_exporter": "python",
   "pygments_lexer": "ipython3",
   "version": "3.12.4"
  }
 },
 "nbformat": 4,
 "nbformat_minor": 5
}
