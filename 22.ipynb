{
 "cells": [
  {
   "cell_type": "code",
   "execution_count": 2,
   "id": "ba705326-3e6b-4938-b34f-80873fd27971",
   "metadata": {},
   "outputs": [],
   "source": [
    "import cv2\n",
    "import time"
   ]
  },
  {
   "cell_type": "code",
   "execution_count": 3,
   "id": "568e5bec-86a5-43b1-aa52-1fe4cad3c63d",
   "metadata": {},
   "outputs": [],
   "source": [
    "my_video = cv2.VideoCapture('C:/Users/ducth/Documents/hoctap/thigiacmaytinh/data/hd_video.mp4')"
   ]
  },
  {
   "cell_type": "code",
   "execution_count": 4,
   "id": "087a6bf4-7c96-4720-b736-34255cdb3efd",
   "metadata": {},
   "outputs": [],
   "source": [
    "#tao cua so hien thi\n",
    "cv2.namedWindow('VideoPlayer', cv2.WINDOW_NORMAL)"
   ]
  },
  {
   "cell_type": "code",
   "execution_count": 5,
   "id": "94c51e2f-f8cb-41f8-8661-acb282763ece",
   "metadata": {},
   "outputs": [],
   "source": [
    "#Ghi text\n",
    "font = cv2.FONT_HERSHEY_SIMPLEX\n",
    "font_color = (0, 0, 255)\n",
    "font_scale = 2\n",
    "font_thicknes = 2"
   ]
  },
  {
   "cell_type": "code",
   "execution_count": 6,
   "id": "7f3a63ce-c951-4311-a104-5107e6721130",
   "metadata": {},
   "outputs": [],
   "source": [
    "#Hien thi tung khung anh\n",
    "while True:\n",
    "    #Thoi gian truoc khi doc\n",
    "    start_time = time.time()\n",
    "    #Doc 1 frame\n",
    "    ret, frame = my_video.read()\n",
    "    #Thoat khi khong the doc frame\n",
    "    if not ret:\n",
    "        break\n",
    "    #Thoi gian sau khi doc\n",
    "    end_time = time.time()    \n",
    "    #Tinh fps\n",
    "    fps = 1/(end_time-start_time)\n",
    "    #Hien thi fps\n",
    "    cv2.putText(frame, f'FPS: {fps:.2f}', (100, 100), font, font_scale, font_color , font_thicknes)\n",
    "    #Hien thi\n",
    "    cv2.imshow('Video Player', frame)\n",
    "    if(cv2.waitKey(10)==ord('q')):\n",
    "        break"
   ]
  },
  {
   "cell_type": "code",
   "execution_count": 7,
   "id": "e07caa1d-c99b-438b-966b-398d9b96341f",
   "metadata": {},
   "outputs": [],
   "source": [
    "#Huuy bo player\n",
    "my_video.release()\n",
    "cv2.destroyAllWindows()"
   ]
  },
  {
   "cell_type": "code",
   "execution_count": null,
   "id": "c6ee44dd-ea48-4032-b07d-3f5e866fa7f0",
   "metadata": {},
   "outputs": [],
   "source": []
  }
 ],
 "metadata": {
  "kernelspec": {
   "display_name": "Python 3 (ipykernel)",
   "language": "python",
   "name": "python3"
  },
  "language_info": {
   "codemirror_mode": {
    "name": "ipython",
    "version": 3
   },
   "file_extension": ".py",
   "mimetype": "text/x-python",
   "name": "python",
   "nbconvert_exporter": "python",
   "pygments_lexer": "ipython3",
   "version": "3.12.4"
  }
 },
 "nbformat": 4,
 "nbformat_minor": 5
}
