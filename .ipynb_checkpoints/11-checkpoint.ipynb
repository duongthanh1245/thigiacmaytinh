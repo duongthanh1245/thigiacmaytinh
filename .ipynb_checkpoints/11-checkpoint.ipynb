{
 "cells": [
  {
   "cell_type": "code",
   "execution_count": 1,
   "id": "0309ef72-0e42-42e1-a9f2-d9f5fd6f5ec9",
   "metadata": {},
   "outputs": [],
   "source": [
    "import numpy as np"
   ]
  },
  {
   "cell_type": "code",
   "execution_count": 2,
   "id": "55fd7b86-5691-4fad-b3cc-6110162f0d54",
   "metadata": {},
   "outputs": [
    {
     "name": "stdout",
     "output_type": "stream",
     "text": [
      "[2 3 4]\n",
      "3\n"
     ]
    }
   ],
   "source": [
    "#tao mang\n",
    "a = np.array([2,3,4])\n",
    "\n",
    "#in mang\n",
    "print(a)\n",
    "\n",
    "#in ra mot phan tu\n",
    "element = a[1]\n",
    "print(element)"
   ]
  },
  {
   "cell_type": "code",
   "execution_count": 6,
   "id": "ffa187d9-9d17-4e0e-af2a-6c0d9972a448",
   "metadata": {},
   "outputs": [
    {
     "name": "stdout",
     "output_type": "stream",
     "text": [
      "Matrix: \n",
      "[[1 2 3]\n",
      " [7 8 9]\n",
      " [6 5 4]]\n",
      "9\n"
     ]
    }
   ],
   "source": [
    "#tao mang 2 chieu\n",
    "matrix = np.array([[1,2,3],[7,8,9],[6,5,4]])\n",
    "print('Matrix: ')\n",
    "print(matrix)\n",
    "\n",
    "#in mot phan tu\n",
    "element = matrix[1, 2]\n",
    "print(element)"
   ]
  },
  {
   "cell_type": "code",
   "execution_count": 8,
   "id": "1c7ee050-f5a9-46d6-9639-1e1c5eb66aed",
   "metadata": {},
   "outputs": [
    {
     "name": "stdout",
     "output_type": "stream",
     "text": [
      "[0. 0. 0.]\n",
      "[1. 1. 1.]\n",
      "[1. 1. 1.]\n",
      "[ 0  1  2  3  4  5  6  7  8  9 10 11 12 13 14 15 16 17 18 19 20 21 22 23\n",
      " 24 25 26 27 28 29 30 31 32 33 34 35 36 37 38 39 40 41 42 43 44 45 46 47\n",
      " 48 49]\n",
      "[0.   1.75 3.5  5.25 7.  ]\n"
     ]
    },
    {
     "data": {
      "text/plain": [
       "array([1, 1, 1, 1, 1], dtype=int64)"
      ]
     },
     "execution_count": 8,
     "metadata": {},
     "output_type": "execute_result"
    }
   ],
   "source": [
    "#Cach tao mang\n",
    "#tao mang toan la so 0\n",
    "a = np.zeros(3)\n",
    "print(a)\n",
    "\n",
    "# Tao mang toan so 1\n",
    "a = np.ones(3)\n",
    "print(a)\n",
    "\n",
    "# Tao mang\n",
    "a = np.empty(3)\n",
    "print(a)\n",
    "\n",
    "# Tao mang tu 0 den 50\n",
    "a = np.arange(50)\n",
    "print(a)\n",
    "\n",
    "# Tao mang gom cac phan tu voi khoang cach deu nhau\n",
    "a = np.linspace(0, 7, num=5)\n",
    "print(a)\n",
    "\n",
    "\n",
    "# Xac dinh kieu du lieu\n",
    "a = np.ones(5, dtype=np.int64)\n",
    "a"
   ]
  },
  {
   "cell_type": "code",
   "execution_count": 12,
   "id": "188fa89b-29e5-40ed-9735-2b2ee4ee3a42",
   "metadata": {},
   "outputs": [
    {
     "name": "stdout",
     "output_type": "stream",
     "text": [
      "[3 7 1 9 5]\n",
      "[1 3 5 7 9]\n",
      "[9 7 5 3 1]\n",
      "[ 9  7  5  3  1 11]\n",
      "[ 9  5  3  1 11]\n"
     ]
    }
   ],
   "source": [
    "# Them, xoa, sap xep mang\n",
    "# Tao mang\n",
    "arr = np.array([3, 7, 1, 9, 5])\n",
    "print(arr)\n",
    "\n",
    "# Sap xep\n",
    "arr = np.sort(arr)\n",
    "print(arr)\n",
    "\n",
    "# Sap xep nguoc\n",
    "arr = np.sort(arr)[::-1]\n",
    "print(arr)\n",
    "\n",
    "#Them phan tu vao mang\n",
    "arr = np.append(arr, 11)\n",
    "print(arr)\n",
    "\n",
    "# Xoa di mot vi tri nao do trong mang\n",
    "arr = np.delete(arr, 1)\n",
    "print(arr)"
   ]
  },
  {
   "cell_type": "code",
   "execution_count": 13,
   "id": "06491451-143b-4913-b60d-6a72fba00952",
   "metadata": {},
   "outputs": [
    {
     "name": "stdout",
     "output_type": "stream",
     "text": [
      "[[1 2 3]\n",
      " [4 5 9]\n",
      " [5 6 8]]\n",
      "[[3 1 2]\n",
      " [4 5 5]\n",
      " [8 6 9]]\n"
     ]
    }
   ],
   "source": [
    "# Tao mot mang 2 chieu\n",
    "arr = np.array([[3, 1, 2],\n",
    "                [4, 5, 9],\n",
    "                [8, 6, 5]])\n",
    "\n",
    "sap_xep_theo_hang = np.sort(arr, axis=1) #tang dan\n",
    "print(sap_xep_theo_hang)\n",
    "\n",
    "sap_xep_theo_cot = np.sort(arr, axis=0) #tang dan\n",
    "print(sap_xep_theo_cot)"
   ]
  },
  {
   "cell_type": "code",
   "execution_count": 14,
   "id": "abb53034-c54e-4fa6-8d87-7c4aed1b986c",
   "metadata": {},
   "outputs": [
    {
     "name": "stdout",
     "output_type": "stream",
     "text": [
      "[[3 2 1]\n",
      " [9 5 4]\n",
      " [8 6 5]]\n",
      "[[8 6 9]\n",
      " [4 5 5]\n",
      " [3 1 2]]\n"
     ]
    }
   ],
   "source": [
    "# Tao mot mang 2 chieu\n",
    "arr = np.array([[3, 1, 2],\n",
    "                [4, 5, 9],\n",
    "                [8, 6, 5]])\n",
    "\n",
    "sap_xep_theo_hang = -np.sort(-arr, axis=1) #giam dan\n",
    "print(sap_xep_theo_hang)\n",
    "\n",
    "sap_xep_theo_cot = -np.sort(-arr, axis=0) #giam dan\n",
    "print(sap_xep_theo_cot)"
   ]
  },
  {
   "cell_type": "code",
   "execution_count": 15,
   "id": "97b21520-3eaa-458b-93ad-12ef401b84af",
   "metadata": {},
   "outputs": [
    {
     "name": "stdout",
     "output_type": "stream",
     "text": [
      "Số chiều: 2\n",
      "Kích thước: 9\n",
      "Hình dạng: (3, 3)\n"
     ]
    }
   ],
   "source": [
    "# Tạo một mảng 2 chieu\n",
    "arr = np.array([[1, 2, 3], [4, 5, 6],[9,8,7]])\n",
    "\n",
    "#Sd cac thuoc tinh de lay thong tin ve mang\n",
    "so_chieu = arr.ndim  #So chieu\n",
    "kich_thuoc = arr.size  #Kich thuoc\n",
    "hinh_dang = arr.shape  #Hinh dang(so hang x so cot)\n",
    "\n",
    "print(\"Số chiều:\", so_chieu)\n",
    "print(\"Kích thước:\", kich_thuoc)\n",
    "print(\"Hình dạng:\", hinh_dang)"
   ]
  },
  {
   "cell_type": "code",
   "execution_count": 16,
   "id": "83390211-1735-420b-8c13-8a29bd64925b",
   "metadata": {},
   "outputs": [
    {
     "name": "stdout",
     "output_type": "stream",
     "text": [
      "[1. 2. 3. 4. 5.]\n"
     ]
    }
   ],
   "source": [
    "# Chuyen doikieu du lieu\n",
    "arr = np.array([1, 2, 3, 4, 5])\n",
    "arr_float = arr.astype(float)\n",
    "print(arr_float)"
   ]
  },
  {
   "cell_type": "code",
   "execution_count": 18,
   "id": "f9526289-8a56-4421-90ff-cc3f4809d062",
   "metadata": {},
   "outputs": [
    {
     "name": "stdout",
     "output_type": "stream",
     "text": [
      "[[1 2 3]\n",
      " [7 8 9]]\n",
      "[[1 2]\n",
      " [3 7]\n",
      " [8 9]]\n"
     ]
    }
   ],
   "source": [
    "#Thay doi hinh dang cua mang\n",
    "arr = np.array([1, 2, 3, 7, 8, 9])\n",
    "reshaped_arr = arr.reshape(2,3)\n",
    "print(reshaped_arr)\n",
    "reshaped_arr = arr.reshape(3,2)\n",
    "print(reshaped_arr)"
   ]
  },
  {
   "cell_type": "code",
   "execution_count": 19,
   "id": "6ace1065-efc5-4cdc-8f46-60ae07a752d9",
   "metadata": {},
   "outputs": [
    {
     "name": "stdout",
     "output_type": "stream",
     "text": [
      "[1 2 3 7 8 9]\n"
     ]
    }
   ],
   "source": [
    "#chuyen thanh mang 1 chieu\n",
    "reshaped_arr = reshaped_arr.flatten()\n",
    "print(reshaped_arr)"
   ]
  },
  {
   "cell_type": "code",
   "execution_count": 20,
   "id": "bef04372-c8ba-48be-b0c5-1f2030198abb",
   "metadata": {},
   "outputs": [
    {
     "name": "stdout",
     "output_type": "stream",
     "text": [
      "[2 3 4]\n",
      "[1 2 3 4]\n",
      "[4 5]\n"
     ]
    }
   ],
   "source": [
    "# Cat lat mang\n",
    "arr = np.array([1, 2, 3, 4, 5])\n",
    "\n",
    "sub_arr = arr[1:4]  #Cat tu phan tu 1 den 4\n",
    "print(sub_arr) # 2 3 4 5\n",
    "\n",
    "sub_arr = arr[:-1]\n",
    "print(sub_arr)\n",
    "\n",
    "sub_arr = arr[-2:]\n",
    "print(sub_arr)"
   ]
  },
  {
   "cell_type": "code",
   "execution_count": 21,
   "id": "fdba07f2-98b6-443c-ac09-b9366a38ac22",
   "metadata": {},
   "outputs": [
    {
     "name": "stdout",
     "output_type": "stream",
     "text": [
      "[[1 2 3]\n",
      " [4 6 9]]\n",
      "[[1 4]\n",
      " [2 6]\n",
      " [3 9]]\n"
     ]
    }
   ],
   "source": [
    "#Chuyen vi mang\n",
    "arr = np.array([[1, 2, 3], [4, 6, 9]])\n",
    "print(arr)\n",
    "#De chuyen vi mang ta sd .T hoac ham numpy.transpose()\n",
    "transposed_arr = arr.T\n",
    "print(transposed_arr)"
   ]
  },
  {
   "cell_type": "code",
   "execution_count": 22,
   "id": "30f9eaea-ffc4-4a5d-a27e-3ccb33a5def3",
   "metadata": {},
   "outputs": [
    {
     "name": "stdout",
     "output_type": "stream",
     "text": [
      "[1 2 3 9 7 5]\n"
     ]
    }
   ],
   "source": [
    "# Noi mang\n",
    "arr1 = np.array([1, 2, 3])\n",
    "arr2 = np.array([9,7,5])\n",
    "arr = np.concatenate((arr1, arr2))\n",
    "print(arr)"
   ]
  },
  {
   "cell_type": "code",
   "execution_count": 23,
   "id": "49ba16b0-4480-4075-8b19-b79998611f0a",
   "metadata": {},
   "outputs": [
    {
     "name": "stdout",
     "output_type": "stream",
     "text": [
      "Tong:  30\n",
      "Gia tri trung binh:  6.0\n",
      "Gia tri lon nhat:  10\n",
      "Gia tri nho nhat:  2\n",
      "Do lech chuan cua mang:  2.8284271247461903\n",
      "Phuong sai cua mang:  8.0\n",
      "Tong tich chap cua arr1 va arr2:  32\n"
     ]
    }
   ],
   "source": [
    "# HAM TINH TONG (SUM)\n",
    "# HAM numpy.sum() chho phep tinh tong cac phan tu trong mang\n",
    "arr = np.array([2,4,6,8,10])\n",
    "total = np.sum(arr)\n",
    "print(\"Tong: \", total)\n",
    "\n",
    "# HAM TINH TRUNG BINH (MEAN)\n",
    "# Ham numpy.mean() tinh gia tri trung binh cua cac phan tu trong mang\n",
    "average = np.mean(arr)\n",
    "print(\"Gia tri trung binh: \", average)\n",
    "\n",
    "# HAM TIM GIA TRI LON NHAT VA NHO NHAT(MIN & MAX)\n",
    "# Ham numpy.max() & numpy.min() dung de tim gia tri lon nhat va nho nhat trong mang\n",
    "max_value = np.max(arr)\n",
    "min_value = np.min(arr)\n",
    "print(\"Gia tri lon nhat: \", max_value)\n",
    "print(\"Gia tri nho nhat: \", min_value)\n",
    "\n",
    "# HAM TINH DO LECH CHUAN (STANDARD DEVIATION)\n",
    "# Ham numpy.var() tinh do lech chuan cua mang, do luong muc do phan tan cua du lieu\n",
    "std_deviation = np.std(arr)\n",
    "print(\"Do lech chuan cua mang: \", std_deviation)\n",
    "\n",
    "# HAM TINH PHUONG SAI(VARIANCE)\n",
    "# Ham numpy.var() tinh phuong sai cua mang, do luong muc do bien thien cua du lieu\n",
    "variance = np.var(arr)\n",
    "print(\"Phuong sai cua mang: \", variance)\n",
    "\n",
    "# HAM TINH TONG TICH CHAP (DOT PRODUCT)\n",
    "# Ham numpy.dot() tinh tong tich chap cua 2 mang (VECTOR)\n",
    "arr1 = np.array([1, 2, 3])\n",
    "arr2 = np.array([4, 5, 6])\n",
    "dot_product = np.dot(arr1, arr2)\n",
    "print(\"Tong tich chap cua arr1 va arr2: \", dot_product)"
   ]
  },
  {
   "cell_type": "code",
   "execution_count": null,
   "id": "1358b394-d7ba-48d4-8ff0-c7fae06b6e43",
   "metadata": {},
   "outputs": [],
   "source": []
  }
 ],
 "metadata": {
  "kernelspec": {
   "display_name": "Python 3 (ipykernel)",
   "language": "python",
   "name": "python3"
  },
  "language_info": {
   "codemirror_mode": {
    "name": "ipython",
    "version": 3
   },
   "file_extension": ".py",
   "mimetype": "text/x-python",
   "name": "python",
   "nbconvert_exporter": "python",
   "pygments_lexer": "ipython3",
   "version": "3.12.4"
  }
 },
 "nbformat": 4,
 "nbformat_minor": 5
}
