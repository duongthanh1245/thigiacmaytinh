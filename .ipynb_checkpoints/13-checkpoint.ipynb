{
 "cells": [
  {
   "cell_type": "code",
   "execution_count": 1,
   "id": "7149e4a8-735e-44d5-b3f5-f6c42523391c",
   "metadata": {},
   "outputs": [],
   "source": [
    "import numpy as np\n",
    "from PIL import Image\n",
    "import matplotlib.pyplot as plt"
   ]
  },
  {
   "cell_type": "code",
   "execution_count": 8,
   "id": "e62b427b-3b20-40f3-8014-c9182d06a4fb",
   "metadata": {},
   "outputs": [
    {
     "ename": "NameError",
     "evalue": "name 'image' is not defined",
     "output_type": "error",
     "traceback": [
      "\u001b[1;31m---------------------------------------------------------------------------\u001b[0m",
      "\u001b[1;31mNameError\u001b[0m                                 Traceback (most recent call last)",
      "Cell \u001b[1;32mIn[8], line 8\u001b[0m\n\u001b[0;32m      5\u001b[0m         image \u001b[38;5;241m=\u001b[39m image\u001b[38;5;241m.\u001b[39mconvert(\u001b[38;5;124m'\u001b[39m\u001b[38;5;124mL\u001b[39m\u001b[38;5;124m'\u001b[39m)\n\u001b[0;32m      7\u001b[0m \u001b[38;5;66;03m#Chuyen doi anh thanh mang NumPy\u001b[39;00m\n\u001b[1;32m----> 8\u001b[0m image_array \u001b[38;5;241m=\u001b[39m np\u001b[38;5;241m.\u001b[39marray(image)\n\u001b[0;32m     10\u001b[0m \u001b[38;5;66;03m#Tinh toan histogram cua anh\u001b[39;00m\n\u001b[0;32m     11\u001b[0m histogram, bins \u001b[38;5;241m=\u001b[39m np\u001b[38;5;241m.\u001b[39mhistogram(image_array, bins\u001b[38;5;241m=\u001b[39mnbr_bins, \u001b[38;5;28mrange\u001b[39m\u001b[38;5;241m=\u001b[39m(\u001b[38;5;241m0\u001b[39m, \u001b[38;5;241m255\u001b[39m), destiny\u001b[38;5;241m=\u001b[39m\u001b[38;5;28;01mTrue\u001b[39;00m)\n",
      "\u001b[1;31mNameError\u001b[0m: name 'image' is not defined"
     ]
    }
   ],
   "source": [
    "def histogram_equalization(image, nbr_bins=256):\n",
    "    \n",
    "    #Dam bao anh dau vao la anh xam\n",
    "    if image.mode != 'L':\n",
    "        image = image.convert('L')\n",
    "    \n",
    "#Chuyen doi anh thanh mang NumPy\n",
    "image_array = np.array(image)\n",
    "\n",
    "#Tinh toan histogram cua anh\n",
    "histogram, bins = np.histogram(image_array, bins=nbr_bins, range=(0, 255), destiny=True)\n",
    "\n",
    "#Tinh toan ham phan phoi tich luy (CDF - Cumulative Distribution Function)\n",
    "cdf = histogram.cumsum()\n",
    "cdf = 255 * cdf/cdf[-1]\n",
    "\n",
    "#Lay gia tri moi cho tung pixel dua tren CDF\n",
    "image_equalized = np.interp(image_array, bins[:-1], cdf)\n",
    "\n",
    "#Chuyen doi mang ket qua thanh hinh anh\n",
    "equalized_image = Image.fromarray(image_equalized.astype('uint8'))\n",
    "\n",
    "return equalized_image"
   ]
  },
  {
   "cell_type": "code",
   "execution_count": null,
   "id": "82af985e-9711-4be5-88fa-0b87ce8f00d2",
   "metadata": {},
   "outputs": [],
   "source": []
  }
 ],
 "metadata": {
  "kernelspec": {
   "display_name": "Python 3 (ipykernel)",
   "language": "python",
   "name": "python3"
  },
  "language_info": {
   "codemirror_mode": {
    "name": "ipython",
    "version": 3
   },
   "file_extension": ".py",
   "mimetype": "text/x-python",
   "name": "python",
   "nbconvert_exporter": "python",
   "pygments_lexer": "ipython3",
   "version": "3.12.4"
  }
 },
 "nbformat": 4,
 "nbformat_minor": 5
}
